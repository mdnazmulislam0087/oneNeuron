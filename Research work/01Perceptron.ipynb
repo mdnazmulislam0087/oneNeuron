{
 "cells": [
  {
   "cell_type": "code",
   "execution_count": 1,
   "id": "010b7d95-a7ef-4d55-a1dc-0f0ce9174db0",
   "metadata": {},
   "outputs": [
    {
     "data": {
      "text/plain": [
       "'C:\\\\Users\\\\mislam41\\\\OneDrive - Kent State University\\\\Summer2025\\\\Deep_Learning\\\\oneNeuron\\\\oneNeuron\\\\Research work'"
      ]
     },
     "execution_count": 1,
     "metadata": {},
     "output_type": "execute_result"
    }
   ],
   "source": [
    "import os\n",
    "os.getcwd()"
   ]
  },
  {
   "cell_type": "code",
   "execution_count": 2,
   "id": "0bfb4267-928a-42a5-aca3-caa4fd089655",
   "metadata": {},
   "outputs": [
    {
     "name": "stdout",
     "output_type": "stream",
     "text": [
      " Volume in drive C is OS\n",
      " Volume Serial Number is 3E01-3866\n",
      "\n",
      " Directory of C:\\Users\\mislam41\\OneDrive - Kent State University\\Summer2025\\Deep_Learning\\oneNeuron\\oneNeuron\\Research work\n",
      "\n",
      "06/17/2025  01:53 PM    <DIR>          .\n",
      "06/17/2025  01:53 PM    <DIR>          ..\n",
      "06/17/2025  01:53 PM    <DIR>          .ipynb_checkpoints\n",
      "05/29/2025  04:09 PM           202,595 01Perceptron.ipynb\n",
      "               1 File(s)        202,595 bytes\n",
      "               3 Dir(s)  813,747,990,528 bytes free\n"
     ]
    }
   ],
   "source": [
    "ls"
   ]
  },
  {
   "cell_type": "code",
   "execution_count": 3,
   "id": "bf135936-8327-40d6-b15c-d1d799143be8",
   "metadata": {},
   "outputs": [],
   "source": [
    "with open(\"test.txt\", \"w\") as f:\n",
    "    f.writelines(\"Hello World\")"
   ]
  },
  {
   "cell_type": "code",
   "execution_count": 4,
   "id": "f22c241d-3dd0-4e2f-8967-7fe8ad5af7c1",
   "metadata": {},
   "outputs": [
    {
     "name": "stdout",
     "output_type": "stream",
     "text": [
      " Volume in drive C is OS\n",
      " Volume Serial Number is 3E01-3866\n",
      "\n",
      " Directory of C:\\Users\\mislam41\\OneDrive - Kent State University\\Summer2025\\Deep_Learning\\oneNeuron\\oneNeuron\\Research work\n",
      "\n",
      "06/17/2025  01:53 PM    <DIR>          .\n",
      "06/17/2025  01:53 PM    <DIR>          ..\n",
      "06/17/2025  01:53 PM    <DIR>          .ipynb_checkpoints\n",
      "05/29/2025  04:09 PM           202,595 01Perceptron.ipynb\n",
      "06/17/2025  01:53 PM                11 test.txt\n",
      "               2 File(s)        202,606 bytes\n",
      "               3 Dir(s)  813,747,855,360 bytes free\n"
     ]
    }
   ],
   "source": [
    "ls"
   ]
  },
  {
   "cell_type": "markdown",
   "id": "125cd564-8ff4-4114-a0b7-aea0a7e616e4",
   "metadata": {},
   "source": [
    "## Implimentation of Perceptron"
   ]
  },
  {
   "cell_type": "code",
   "execution_count": 5,
   "id": "ef3a3386-d75d-4ec9-89d3-caf92023f333",
   "metadata": {},
   "outputs": [],
   "source": [
    "import matplotlib.pyplot as plt\n",
    "import numpy as np\n",
    "import pandas as pd\n",
    "import joblib # FOR SAVING MY MODEL AS A BINARY FILE\n",
    "from matplotlib.colors import ListedColormap\n",
    "\n",
    "plt.style.use(\"fivethirtyeight\") # THIS IS STYLE OF GRAPHS"
   ]
  },
  {
   "cell_type": "code",
   "execution_count": 6,
   "id": "69a48dbe-6c55-4b87-82b3-2c6cef311ab1",
   "metadata": {},
   "outputs": [
    {
     "data": {
      "text/plain": [
       "array([0.00012166, 0.00017796, 0.00013565])"
      ]
     },
     "execution_count": 6,
     "metadata": {},
     "output_type": "execute_result"
    }
   ],
   "source": [
    "np.random.randn(3)*1e-4"
   ]
  },
  {
   "cell_type": "code",
   "execution_count": 7,
   "id": "080eb408-6560-4157-8070-4a18d38b9ea7",
   "metadata": {},
   "outputs": [
    {
     "data": {
      "text/plain": [
       "array([[-1.],\n",
       "       [-1.],\n",
       "       [-1.],\n",
       "       [-1.]])"
      ]
     },
     "execution_count": 7,
     "metadata": {},
     "output_type": "execute_result"
    }
   ],
   "source": [
    "-np.ones((4,1))"
   ]
  },
  {
   "cell_type": "code",
   "execution_count": 8,
   "id": "639d8391-06f2-4467-860a-87cee205bfbb",
   "metadata": {},
   "outputs": [
    {
     "data": {
      "text/plain": [
       "0.0001"
      ]
     },
     "execution_count": 8,
     "metadata": {},
     "output_type": "execute_result"
    }
   ],
   "source": [
    "1e-4"
   ]
  },
  {
   "cell_type": "code",
   "execution_count": 9,
   "id": "80298273-2788-42a5-97a7-e7cd59d2494d",
   "metadata": {},
   "outputs": [],
   "source": [
    "class Perceptron:\n",
    "  def __init__(self, eta, epochs):\n",
    "    self.weights = np.random.randn(3) * 1e-4 # SMALL WEIGHT INIT\n",
    "    print(f\"initial weights before training: \\n{self.weights}\")\n",
    "    self.eta = eta # LEARNING RATE\n",
    "    self.epochs = epochs \n",
    "\n",
    "\n",
    "  def activationFunction(self, inputs, weights):\n",
    "    z = np.dot(inputs, weights) # z = W * X\n",
    "    return np.where(z > 0, 1, 0) # CONDITION, IF TRUE, ELSE\n",
    "\n",
    "  def fit(self, X, y):\n",
    "    self.X = X\n",
    "    self.y = y\n",
    "\n",
    "    X_with_bias = np.c_[self.X, -np.ones((len(self.X), 1))] # CONCATINATION\n",
    "    print(f\"X with bias: \\n{X_with_bias}\")\n",
    "\n",
    "    for epoch in range(self.epochs):\n",
    "      print(\"--\"*10)\n",
    "      print(f\"for epoch: {epoch}\")\n",
    "      print(\"--\"*10)\n",
    "\n",
    "      y_hat = self.activationFunction(X_with_bias, self.weights) # foward propagation\n",
    "      print(f\"predicted value after forward pass: \\n{y_hat}\")\n",
    "      self.error = self.y - y_hat\n",
    "      print(f\"error: \\n{self.error}\")\n",
    "      self.weights = self.weights + self.eta * np.dot(X_with_bias.T, self.error) # backward propagation\n",
    "      print(f\"updated weights after epoch:\\n{epoch}/{self.epochs} : \\n{self.weights}\")\n",
    "      print(\"#####\"*10)\n",
    "\n",
    "\n",
    "  def predict(self, X):\n",
    "    X_with_bias = np.c_[X, -np.ones((len(X), 1))]\n",
    "    return self.activationFunction(X_with_bias, self.weights)\n",
    "\n",
    "  def total_loss(self):\n",
    "    total_loss = np.sum(self.error)\n",
    "    print(f\"total loss: {total_loss}\")\n",
    "    return total_loss\n"
   ]
  },
  {
   "cell_type": "code",
   "execution_count": 10,
   "id": "3e5e9ae8-a6fb-4549-b31d-fec5351bf283",
   "metadata": {},
   "outputs": [],
   "source": [
    "def prepare_data(df):\n",
    "  X = df.drop(\"y\", axis=1)\n",
    "\n",
    "  y = df[\"y\"]\n",
    "\n",
    "  return X, y"
   ]
  },
  {
   "cell_type": "markdown",
   "id": "0fb438fa-ea3f-456a-8f76-2fdc603d9f02",
   "metadata": {},
   "source": [
    "## TRaining AND Gate"
   ]
  },
  {
   "cell_type": "code",
   "execution_count": 11,
   "id": "91b46367-0e2b-4649-abbb-f1b1e5b15397",
   "metadata": {},
   "outputs": [
    {
     "data": {
      "text/html": [
       "<div>\n",
       "<style scoped>\n",
       "    .dataframe tbody tr th:only-of-type {\n",
       "        vertical-align: middle;\n",
       "    }\n",
       "\n",
       "    .dataframe tbody tr th {\n",
       "        vertical-align: top;\n",
       "    }\n",
       "\n",
       "    .dataframe thead th {\n",
       "        text-align: right;\n",
       "    }\n",
       "</style>\n",
       "<table border=\"1\" class=\"dataframe\">\n",
       "  <thead>\n",
       "    <tr style=\"text-align: right;\">\n",
       "      <th></th>\n",
       "      <th>x1</th>\n",
       "      <th>x2</th>\n",
       "      <th>y</th>\n",
       "    </tr>\n",
       "  </thead>\n",
       "  <tbody>\n",
       "    <tr>\n",
       "      <th>0</th>\n",
       "      <td>0</td>\n",
       "      <td>0</td>\n",
       "      <td>0</td>\n",
       "    </tr>\n",
       "    <tr>\n",
       "      <th>1</th>\n",
       "      <td>0</td>\n",
       "      <td>1</td>\n",
       "      <td>0</td>\n",
       "    </tr>\n",
       "    <tr>\n",
       "      <th>2</th>\n",
       "      <td>1</td>\n",
       "      <td>0</td>\n",
       "      <td>0</td>\n",
       "    </tr>\n",
       "    <tr>\n",
       "      <th>3</th>\n",
       "      <td>1</td>\n",
       "      <td>1</td>\n",
       "      <td>1</td>\n",
       "    </tr>\n",
       "  </tbody>\n",
       "</table>\n",
       "</div>"
      ],
      "text/plain": [
       "   x1  x2  y\n",
       "0   0   0  0\n",
       "1   0   1  0\n",
       "2   1   0  0\n",
       "3   1   1  1"
      ]
     },
     "execution_count": 11,
     "metadata": {},
     "output_type": "execute_result"
    }
   ],
   "source": [
    "AND = {\n",
    "    \"x1\": [0,0,1,1],\n",
    "    \"x2\": [0,1,0,1],\n",
    "    \"y\": [0,0,0,1],\n",
    "}\n",
    "\n",
    "df = pd.DataFrame(AND)\n",
    "\n",
    "df"
   ]
  },
  {
   "cell_type": "code",
   "execution_count": 12,
   "id": "42c7f567-95ee-4fe3-97d9-fa95b0e6cec7",
   "metadata": {},
   "outputs": [
    {
     "data": {
      "text/html": [
       "<div>\n",
       "<style scoped>\n",
       "    .dataframe tbody tr th:only-of-type {\n",
       "        vertical-align: middle;\n",
       "    }\n",
       "\n",
       "    .dataframe tbody tr th {\n",
       "        vertical-align: top;\n",
       "    }\n",
       "\n",
       "    .dataframe thead th {\n",
       "        text-align: right;\n",
       "    }\n",
       "</style>\n",
       "<table border=\"1\" class=\"dataframe\">\n",
       "  <thead>\n",
       "    <tr style=\"text-align: right;\">\n",
       "      <th></th>\n",
       "      <th>x1</th>\n",
       "      <th>x2</th>\n",
       "    </tr>\n",
       "  </thead>\n",
       "  <tbody>\n",
       "    <tr>\n",
       "      <th>0</th>\n",
       "      <td>0</td>\n",
       "      <td>0</td>\n",
       "    </tr>\n",
       "    <tr>\n",
       "      <th>1</th>\n",
       "      <td>0</td>\n",
       "      <td>1</td>\n",
       "    </tr>\n",
       "    <tr>\n",
       "      <th>2</th>\n",
       "      <td>1</td>\n",
       "      <td>0</td>\n",
       "    </tr>\n",
       "    <tr>\n",
       "      <th>3</th>\n",
       "      <td>1</td>\n",
       "      <td>1</td>\n",
       "    </tr>\n",
       "  </tbody>\n",
       "</table>\n",
       "</div>"
      ],
      "text/plain": [
       "   x1  x2\n",
       "0   0   0\n",
       "1   0   1\n",
       "2   1   0\n",
       "3   1   1"
      ]
     },
     "execution_count": 12,
     "metadata": {},
     "output_type": "execute_result"
    }
   ],
   "source": [
    "X,y = prepare_data(df)\n",
    "X"
   ]
  },
  {
   "cell_type": "code",
   "execution_count": 13,
   "id": "711a4d2a-4eb4-4ff1-8565-5bc88ff38cf3",
   "metadata": {},
   "outputs": [
    {
     "data": {
      "text/plain": [
       "0    0\n",
       "1    0\n",
       "2    0\n",
       "3    1\n",
       "Name: y, dtype: int64"
      ]
     },
     "execution_count": 13,
     "metadata": {},
     "output_type": "execute_result"
    }
   ],
   "source": [
    "y"
   ]
  },
  {
   "cell_type": "code",
   "execution_count": 14,
   "id": "23842ea4-1c9d-4ab2-90f6-f0223f344f7f",
   "metadata": {},
   "outputs": [
    {
     "name": "stdout",
     "output_type": "stream",
     "text": [
      "initial weights before training: \n",
      "[-4.92939553e-05  4.50174869e-05 -5.27356665e-05]\n",
      "X with bias: \n",
      "[[ 0.  0. -1.]\n",
      " [ 0.  1. -1.]\n",
      " [ 1.  0. -1.]\n",
      " [ 1.  1. -1.]]\n",
      "--------------------\n",
      "for epoch: 0\n",
      "--------------------\n",
      "predicted value after forward pass: \n",
      "[1 1 1 1]\n",
      "error: \n",
      "0   -1\n",
      "1   -1\n",
      "2   -1\n",
      "3    0\n",
      "Name: y, dtype: int64\n",
      "updated weights after epoch:\n",
      "0/5 : \n",
      "[-0.30004929 -0.29995498  0.89994726]\n",
      "##################################################\n",
      "--------------------\n",
      "for epoch: 1\n",
      "--------------------\n",
      "predicted value after forward pass: \n",
      "[0 0 0 0]\n",
      "error: \n",
      "0    0\n",
      "1    0\n",
      "2    0\n",
      "3    1\n",
      "Name: y, dtype: int64\n",
      "updated weights after epoch:\n",
      "1/5 : \n",
      "[-4.92939553e-05  4.50174869e-05  5.99947264e-01]\n",
      "##################################################\n",
      "--------------------\n",
      "for epoch: 2\n",
      "--------------------\n",
      "predicted value after forward pass: \n",
      "[0 0 0 0]\n",
      "error: \n",
      "0    0\n",
      "1    0\n",
      "2    0\n",
      "3    1\n",
      "Name: y, dtype: int64\n",
      "updated weights after epoch:\n",
      "2/5 : \n",
      "[0.29995071 0.30004502 0.29994726]\n",
      "##################################################\n",
      "--------------------\n",
      "for epoch: 3\n",
      "--------------------\n",
      "predicted value after forward pass: \n",
      "[0 1 1 1]\n",
      "error: \n",
      "0    0\n",
      "1   -1\n",
      "2   -1\n",
      "3    0\n",
      "Name: y, dtype: int64\n",
      "updated weights after epoch:\n",
      "3/5 : \n",
      "[-4.92939553e-05  4.50174869e-05  8.99947264e-01]\n",
      "##################################################\n",
      "--------------------\n",
      "for epoch: 4\n",
      "--------------------\n",
      "predicted value after forward pass: \n",
      "[0 0 0 0]\n",
      "error: \n",
      "0    0\n",
      "1    0\n",
      "2    0\n",
      "3    1\n",
      "Name: y, dtype: int64\n",
      "updated weights after epoch:\n",
      "4/5 : \n",
      "[0.29995071 0.30004502 0.59994726]\n",
      "##################################################\n",
      "total loss: 1\n"
     ]
    }
   ],
   "source": [
    "ETA = 0.3 # between 0 and 1\n",
    "EPOCHS =5\n",
    "\n",
    "model = Perceptron(eta = ETA, epochs = EPOCHS)\n",
    "model.fit(X,y)\n",
    "_=model.total_loss()"
   ]
  },
  {
   "cell_type": "code",
   "execution_count": 15,
   "id": "204f3920-4d0e-4e52-9984-4e6936db220f",
   "metadata": {},
   "outputs": [
    {
     "data": {
      "text/plain": [
       "array([0, 0, 0, 1])"
      ]
     },
     "execution_count": 15,
     "metadata": {},
     "output_type": "execute_result"
    }
   ],
   "source": [
    "model.predict(X)"
   ]
  },
  {
   "cell_type": "code",
   "execution_count": 16,
   "id": "2e9fc212-01c6-4d47-a222-7162a0549491",
   "metadata": {},
   "outputs": [
    {
     "data": {
      "text/plain": [
       "array([[0, 0],\n",
       "       [0, 1],\n",
       "       [1, 0],\n",
       "       [1, 1]], dtype=int64)"
      ]
     },
     "execution_count": 16,
     "metadata": {},
     "output_type": "execute_result"
    }
   ],
   "source": [
    "X.values"
   ]
  },
  {
   "cell_type": "code",
   "execution_count": 17,
   "id": "0e48c69c-bf1d-4b6c-b4df-96aa7ea5e00f",
   "metadata": {},
   "outputs": [
    {
     "data": {
      "text/plain": [
       "array([1, 0])"
      ]
     },
     "execution_count": 17,
     "metadata": {},
     "output_type": "execute_result"
    }
   ],
   "source": [
    "inputs = np.array([[1,1], [0,1]])\n",
    "model.predict(inputs)"
   ]
  },
  {
   "cell_type": "code",
   "execution_count": 18,
   "id": "f22a5c85-174d-4e15-9123-08cf9ce5909f",
   "metadata": {},
   "outputs": [],
   "source": [
    "def save_model(model, filename):\n",
    "  model_dir = \"models\"\n",
    "  os.makedirs(model_dir, exist_ok=True) # ONLY CREATE IF MODEL_DIR DOESN\"T EXISTS\n",
    "  filePath = os.path.join(model_dir, filename) # model/filename\n",
    "  joblib.dump(model, filePath)"
   ]
  },
  {
   "cell_type": "code",
   "execution_count": 19,
   "id": "af429789-9db7-40f4-bf88-4aaef6b89f3a",
   "metadata": {},
   "outputs": [],
   "source": [
    "save_model(model, \"and.model\")"
   ]
  },
  {
   "cell_type": "code",
   "execution_count": 20,
   "id": "4e81175f-f72f-409d-9224-ac053fe197f7",
   "metadata": {},
   "outputs": [
    {
     "data": {
      "text/plain": [
       "array([1, 0])"
      ]
     },
     "execution_count": 20,
     "metadata": {},
     "output_type": "execute_result"
    }
   ],
   "source": [
    "loaded_model = joblib.load(\"models/and.model\")\n",
    "inputs = np.array([[1,1], [1,0]])\n",
    "loaded_model.predict(inputs)"
   ]
  },
  {
   "cell_type": "markdown",
   "id": "2860def1-5944-4cbf-963b-1a4bf23df0f6",
   "metadata": {},
   "source": [
    " ## TRaining OR Gate"
   ]
  },
  {
   "cell_type": "code",
   "execution_count": 21,
   "id": "32af3e43-f8ac-4de6-b89e-a2edca8fa694",
   "metadata": {},
   "outputs": [
    {
     "data": {
      "text/html": [
       "<div>\n",
       "<style scoped>\n",
       "    .dataframe tbody tr th:only-of-type {\n",
       "        vertical-align: middle;\n",
       "    }\n",
       "\n",
       "    .dataframe tbody tr th {\n",
       "        vertical-align: top;\n",
       "    }\n",
       "\n",
       "    .dataframe thead th {\n",
       "        text-align: right;\n",
       "    }\n",
       "</style>\n",
       "<table border=\"1\" class=\"dataframe\">\n",
       "  <thead>\n",
       "    <tr style=\"text-align: right;\">\n",
       "      <th></th>\n",
       "      <th>x1</th>\n",
       "      <th>x2</th>\n",
       "      <th>y</th>\n",
       "    </tr>\n",
       "  </thead>\n",
       "  <tbody>\n",
       "    <tr>\n",
       "      <th>0</th>\n",
       "      <td>0</td>\n",
       "      <td>0</td>\n",
       "      <td>0</td>\n",
       "    </tr>\n",
       "    <tr>\n",
       "      <th>1</th>\n",
       "      <td>0</td>\n",
       "      <td>1</td>\n",
       "      <td>0</td>\n",
       "    </tr>\n",
       "    <tr>\n",
       "      <th>2</th>\n",
       "      <td>1</td>\n",
       "      <td>0</td>\n",
       "      <td>0</td>\n",
       "    </tr>\n",
       "    <tr>\n",
       "      <th>3</th>\n",
       "      <td>1</td>\n",
       "      <td>1</td>\n",
       "      <td>1</td>\n",
       "    </tr>\n",
       "  </tbody>\n",
       "</table>\n",
       "</div>"
      ],
      "text/plain": [
       "   x1  x2  y\n",
       "0   0   0  0\n",
       "1   0   1  0\n",
       "2   1   0  0\n",
       "3   1   1  1"
      ]
     },
     "execution_count": 21,
     "metadata": {},
     "output_type": "execute_result"
    }
   ],
   "source": [
    "OR = {\n",
    "    \"x1\": [0,0,1,1],\n",
    "    \"x2\": [0,1,0,1],\n",
    "    \"y\": [0,1,1,1],\n",
    "}\n",
    "\n",
    "df = pd.DataFrame(AND)\n",
    "\n",
    "df"
   ]
  },
  {
   "cell_type": "code",
   "execution_count": 22,
   "id": "9980c36f-7fbd-4e3b-b569-648bccab2bc2",
   "metadata": {},
   "outputs": [
    {
     "data": {
      "text/html": [
       "<div>\n",
       "<style scoped>\n",
       "    .dataframe tbody tr th:only-of-type {\n",
       "        vertical-align: middle;\n",
       "    }\n",
       "\n",
       "    .dataframe tbody tr th {\n",
       "        vertical-align: top;\n",
       "    }\n",
       "\n",
       "    .dataframe thead th {\n",
       "        text-align: right;\n",
       "    }\n",
       "</style>\n",
       "<table border=\"1\" class=\"dataframe\">\n",
       "  <thead>\n",
       "    <tr style=\"text-align: right;\">\n",
       "      <th></th>\n",
       "      <th>x1</th>\n",
       "      <th>x2</th>\n",
       "    </tr>\n",
       "  </thead>\n",
       "  <tbody>\n",
       "    <tr>\n",
       "      <th>0</th>\n",
       "      <td>0</td>\n",
       "      <td>0</td>\n",
       "    </tr>\n",
       "    <tr>\n",
       "      <th>1</th>\n",
       "      <td>0</td>\n",
       "      <td>1</td>\n",
       "    </tr>\n",
       "    <tr>\n",
       "      <th>2</th>\n",
       "      <td>1</td>\n",
       "      <td>0</td>\n",
       "    </tr>\n",
       "    <tr>\n",
       "      <th>3</th>\n",
       "      <td>1</td>\n",
       "      <td>1</td>\n",
       "    </tr>\n",
       "  </tbody>\n",
       "</table>\n",
       "</div>"
      ],
      "text/plain": [
       "   x1  x2\n",
       "0   0   0\n",
       "1   0   1\n",
       "2   1   0\n",
       "3   1   1"
      ]
     },
     "execution_count": 22,
     "metadata": {},
     "output_type": "execute_result"
    }
   ],
   "source": [
    "X,y = prepare_data(df)\n",
    "X"
   ]
  },
  {
   "cell_type": "code",
   "execution_count": 23,
   "id": "5bdd76d9-e0c6-4302-a8e7-abe34e9d1ced",
   "metadata": {},
   "outputs": [
    {
     "data": {
      "text/plain": [
       "0    0\n",
       "1    0\n",
       "2    0\n",
       "3    1\n",
       "Name: y, dtype: int64"
      ]
     },
     "execution_count": 23,
     "metadata": {},
     "output_type": "execute_result"
    }
   ],
   "source": [
    "y"
   ]
  },
  {
   "cell_type": "code",
   "execution_count": 24,
   "id": "67a9d747-7652-49a5-a2b2-85521914ff31",
   "metadata": {},
   "outputs": [
    {
     "name": "stdout",
     "output_type": "stream",
     "text": [
      "initial weights before training: \n",
      "[-5.26132747e-05 -1.23572238e-05  3.17450384e-06]\n",
      "X with bias: \n",
      "[[ 0.  0. -1.]\n",
      " [ 0.  1. -1.]\n",
      " [ 1.  0. -1.]\n",
      " [ 1.  1. -1.]]\n",
      "--------------------\n",
      "for epoch: 0\n",
      "--------------------\n",
      "predicted value after forward pass: \n",
      "[0 0 0 0]\n",
      "error: \n",
      "0    0\n",
      "1    0\n",
      "2    0\n",
      "3    1\n",
      "Name: y, dtype: int64\n",
      "updated weights after epoch:\n",
      "0/10 : \n",
      "[ 0.29994739  0.29998764 -0.29999683]\n",
      "##################################################\n",
      "--------------------\n",
      "for epoch: 1\n",
      "--------------------\n",
      "predicted value after forward pass: \n",
      "[1 1 1 1]\n",
      "error: \n",
      "0   -1\n",
      "1   -1\n",
      "2   -1\n",
      "3    0\n",
      "Name: y, dtype: int64\n",
      "updated weights after epoch:\n",
      "1/10 : \n",
      "[-5.26132747e-05 -1.23572238e-05  6.00003175e-01]\n",
      "##################################################\n",
      "--------------------\n",
      "for epoch: 2\n",
      "--------------------\n",
      "predicted value after forward pass: \n",
      "[0 0 0 0]\n",
      "error: \n",
      "0    0\n",
      "1    0\n",
      "2    0\n",
      "3    1\n",
      "Name: y, dtype: int64\n",
      "updated weights after epoch:\n",
      "2/10 : \n",
      "[0.29994739 0.29998764 0.30000317]\n",
      "##################################################\n",
      "--------------------\n",
      "for epoch: 3\n",
      "--------------------\n",
      "predicted value after forward pass: \n",
      "[0 0 0 1]\n",
      "error: \n",
      "0    0\n",
      "1    0\n",
      "2    0\n",
      "3    0\n",
      "Name: y, dtype: int64\n",
      "updated weights after epoch:\n",
      "3/10 : \n",
      "[0.29994739 0.29998764 0.30000317]\n",
      "##################################################\n",
      "--------------------\n",
      "for epoch: 4\n",
      "--------------------\n",
      "predicted value after forward pass: \n",
      "[0 0 0 1]\n",
      "error: \n",
      "0    0\n",
      "1    0\n",
      "2    0\n",
      "3    0\n",
      "Name: y, dtype: int64\n",
      "updated weights after epoch:\n",
      "4/10 : \n",
      "[0.29994739 0.29998764 0.30000317]\n",
      "##################################################\n",
      "--------------------\n",
      "for epoch: 5\n",
      "--------------------\n",
      "predicted value after forward pass: \n",
      "[0 0 0 1]\n",
      "error: \n",
      "0    0\n",
      "1    0\n",
      "2    0\n",
      "3    0\n",
      "Name: y, dtype: int64\n",
      "updated weights after epoch:\n",
      "5/10 : \n",
      "[0.29994739 0.29998764 0.30000317]\n",
      "##################################################\n",
      "--------------------\n",
      "for epoch: 6\n",
      "--------------------\n",
      "predicted value after forward pass: \n",
      "[0 0 0 1]\n",
      "error: \n",
      "0    0\n",
      "1    0\n",
      "2    0\n",
      "3    0\n",
      "Name: y, dtype: int64\n",
      "updated weights after epoch:\n",
      "6/10 : \n",
      "[0.29994739 0.29998764 0.30000317]\n",
      "##################################################\n",
      "--------------------\n",
      "for epoch: 7\n",
      "--------------------\n",
      "predicted value after forward pass: \n",
      "[0 0 0 1]\n",
      "error: \n",
      "0    0\n",
      "1    0\n",
      "2    0\n",
      "3    0\n",
      "Name: y, dtype: int64\n",
      "updated weights after epoch:\n",
      "7/10 : \n",
      "[0.29994739 0.29998764 0.30000317]\n",
      "##################################################\n",
      "--------------------\n",
      "for epoch: 8\n",
      "--------------------\n",
      "predicted value after forward pass: \n",
      "[0 0 0 1]\n",
      "error: \n",
      "0    0\n",
      "1    0\n",
      "2    0\n",
      "3    0\n",
      "Name: y, dtype: int64\n",
      "updated weights after epoch:\n",
      "8/10 : \n",
      "[0.29994739 0.29998764 0.30000317]\n",
      "##################################################\n",
      "--------------------\n",
      "for epoch: 9\n",
      "--------------------\n",
      "predicted value after forward pass: \n",
      "[0 0 0 1]\n",
      "error: \n",
      "0    0\n",
      "1    0\n",
      "2    0\n",
      "3    0\n",
      "Name: y, dtype: int64\n",
      "updated weights after epoch:\n",
      "9/10 : \n",
      "[0.29994739 0.29998764 0.30000317]\n",
      "##################################################\n",
      "total loss: 0\n"
     ]
    }
   ],
   "source": [
    "ETA = 0.3 # between 0 and 1\n",
    "EPOCHS =10\n",
    "\n",
    "model_OR = Perceptron(eta = ETA, epochs = EPOCHS)\n",
    "model_OR.fit(X,y)\n",
    "_=model_OR.total_loss()"
   ]
  },
  {
   "cell_type": "code",
   "execution_count": 25,
   "id": "ce183ece-e84c-47ad-b3e2-eebb704da765",
   "metadata": {},
   "outputs": [
    {
     "data": {
      "text/plain": [
       "array([0, 0, 0, 1])"
      ]
     },
     "execution_count": 25,
     "metadata": {},
     "output_type": "execute_result"
    }
   ],
   "source": [
    "model.predict(X)"
   ]
  },
  {
   "cell_type": "code",
   "execution_count": 26,
   "id": "f8d6eeff-67f3-485d-9259-37ebd9bc7499",
   "metadata": {},
   "outputs": [
    {
     "data": {
      "text/plain": [
       "array([[0, 0],\n",
       "       [0, 1],\n",
       "       [1, 0],\n",
       "       [1, 1]], dtype=int64)"
      ]
     },
     "execution_count": 26,
     "metadata": {},
     "output_type": "execute_result"
    }
   ],
   "source": [
    "X.values"
   ]
  },
  {
   "cell_type": "code",
   "execution_count": 27,
   "id": "c35c5613-b2e2-447c-ba13-55121e358b50",
   "metadata": {},
   "outputs": [
    {
     "data": {
      "text/plain": [
       "array([1, 0])"
      ]
     },
     "execution_count": 27,
     "metadata": {},
     "output_type": "execute_result"
    }
   ],
   "source": [
    "inputs = np.array([[1,1], [0,1]])\n",
    "model.predict(inputs)"
   ]
  },
  {
   "cell_type": "code",
   "execution_count": 28,
   "id": "fa259ace-67ca-4356-83d3-af9402057d7a",
   "metadata": {},
   "outputs": [],
   "source": [
    "def save_model(model, filename):\n",
    "  model_dir = \"models\"\n",
    "  os.makedirs(model_dir, exist_ok=True) # ONLY CREATE IF MODEL_DIR DOESN\"T EXISTS\n",
    "  filePath = os.path.join(model_dir, filename) # model/filename\n",
    "  joblib.dump(model, filePath)"
   ]
  },
  {
   "cell_type": "code",
   "execution_count": 29,
   "id": "7fe2223c-3b42-4c67-b73e-666ceb4bf56d",
   "metadata": {},
   "outputs": [],
   "source": [
    "save_model(model_OR, \"or.model\")"
   ]
  },
  {
   "cell_type": "code",
   "execution_count": 30,
   "id": "b3743670-5aa9-4e65-9aad-e8767cfabd17",
   "metadata": {},
   "outputs": [
    {
     "data": {
      "text/plain": [
       "array([1, 0])"
      ]
     },
     "execution_count": 30,
     "metadata": {},
     "output_type": "execute_result"
    }
   ],
   "source": [
    "loaded_model = joblib.load(\"models/or.model\")\n",
    "inputs = np.array([[1,1], [1,0]])\n",
    "loaded_model.predict(inputs)"
   ]
  },
  {
   "cell_type": "markdown",
   "id": "f33e6fe4-21e1-4676-a968-164535c1ffe0",
   "metadata": {},
   "source": [
    "# XOR Model"
   ]
  },
  {
   "cell_type": "code",
   "execution_count": 31,
   "id": "b85a5ac8-1a9a-4acf-8543-86b066e42d31",
   "metadata": {},
   "outputs": [
    {
     "data": {
      "text/html": [
       "<div>\n",
       "<style scoped>\n",
       "    .dataframe tbody tr th:only-of-type {\n",
       "        vertical-align: middle;\n",
       "    }\n",
       "\n",
       "    .dataframe tbody tr th {\n",
       "        vertical-align: top;\n",
       "    }\n",
       "\n",
       "    .dataframe thead th {\n",
       "        text-align: right;\n",
       "    }\n",
       "</style>\n",
       "<table border=\"1\" class=\"dataframe\">\n",
       "  <thead>\n",
       "    <tr style=\"text-align: right;\">\n",
       "      <th></th>\n",
       "      <th>x1</th>\n",
       "      <th>x2</th>\n",
       "      <th>y</th>\n",
       "    </tr>\n",
       "  </thead>\n",
       "  <tbody>\n",
       "    <tr>\n",
       "      <th>0</th>\n",
       "      <td>0</td>\n",
       "      <td>0</td>\n",
       "      <td>0</td>\n",
       "    </tr>\n",
       "    <tr>\n",
       "      <th>1</th>\n",
       "      <td>0</td>\n",
       "      <td>1</td>\n",
       "      <td>1</td>\n",
       "    </tr>\n",
       "    <tr>\n",
       "      <th>2</th>\n",
       "      <td>1</td>\n",
       "      <td>0</td>\n",
       "      <td>1</td>\n",
       "    </tr>\n",
       "    <tr>\n",
       "      <th>3</th>\n",
       "      <td>1</td>\n",
       "      <td>1</td>\n",
       "      <td>0</td>\n",
       "    </tr>\n",
       "  </tbody>\n",
       "</table>\n",
       "</div>"
      ],
      "text/plain": [
       "   x1  x2  y\n",
       "0   0   0  0\n",
       "1   0   1  1\n",
       "2   1   0  1\n",
       "3   1   1  0"
      ]
     },
     "execution_count": 31,
     "metadata": {},
     "output_type": "execute_result"
    }
   ],
   "source": [
    "XOR = {\n",
    "    \"x1\": [0,0,1,1],\n",
    "    \"x2\": [0,1,0,1],\n",
    "    \"y\": [0,1,1,0],\n",
    "}\n",
    "\n",
    "df = pd.DataFrame(XOR)\n",
    "\n",
    "df"
   ]
  },
  {
   "cell_type": "code",
   "execution_count": 32,
   "id": "ed1cb54d-7f63-4b32-97c5-d38a8c64ab8c",
   "metadata": {},
   "outputs": [
    {
     "name": "stdout",
     "output_type": "stream",
     "text": [
      "initial weights before training: \n",
      "[-1.22410147e-06  3.06425484e-05  6.25177443e-05]\n",
      "X with bias: \n",
      "[[ 0.  0. -1.]\n",
      " [ 0.  1. -1.]\n",
      " [ 1.  0. -1.]\n",
      " [ 1.  1. -1.]]\n",
      "--------------------\n",
      "for epoch: 0\n",
      "--------------------\n",
      "predicted value after forward pass: \n",
      "[0 0 0 0]\n",
      "error: \n",
      "0    0\n",
      "1    1\n",
      "2    1\n",
      "3    0\n",
      "Name: y, dtype: int64\n",
      "updated weights after epoch:\n",
      "0/10 : \n",
      "[ 0.29999878  0.30003064 -0.59993748]\n",
      "##################################################\n",
      "--------------------\n",
      "for epoch: 1\n",
      "--------------------\n",
      "predicted value after forward pass: \n",
      "[1 1 1 1]\n",
      "error: \n",
      "0   -1\n",
      "1    0\n",
      "2    0\n",
      "3   -1\n",
      "Name: y, dtype: int64\n",
      "updated weights after epoch:\n",
      "1/10 : \n",
      "[-1.22410147e-06  3.06425484e-05  6.25177443e-05]\n",
      "##################################################\n",
      "--------------------\n",
      "for epoch: 2\n",
      "--------------------\n",
      "predicted value after forward pass: \n",
      "[0 0 0 0]\n",
      "error: \n",
      "0    0\n",
      "1    1\n",
      "2    1\n",
      "3    0\n",
      "Name: y, dtype: int64\n",
      "updated weights after epoch:\n",
      "2/10 : \n",
      "[ 0.29999878  0.30003064 -0.59993748]\n",
      "##################################################\n",
      "--------------------\n",
      "for epoch: 3\n",
      "--------------------\n",
      "predicted value after forward pass: \n",
      "[1 1 1 1]\n",
      "error: \n",
      "0   -1\n",
      "1    0\n",
      "2    0\n",
      "3   -1\n",
      "Name: y, dtype: int64\n",
      "updated weights after epoch:\n",
      "3/10 : \n",
      "[-1.22410147e-06  3.06425484e-05  6.25177443e-05]\n",
      "##################################################\n",
      "--------------------\n",
      "for epoch: 4\n",
      "--------------------\n",
      "predicted value after forward pass: \n",
      "[0 0 0 0]\n",
      "error: \n",
      "0    0\n",
      "1    1\n",
      "2    1\n",
      "3    0\n",
      "Name: y, dtype: int64\n",
      "updated weights after epoch:\n",
      "4/10 : \n",
      "[ 0.29999878  0.30003064 -0.59993748]\n",
      "##################################################\n",
      "--------------------\n",
      "for epoch: 5\n",
      "--------------------\n",
      "predicted value after forward pass: \n",
      "[1 1 1 1]\n",
      "error: \n",
      "0   -1\n",
      "1    0\n",
      "2    0\n",
      "3   -1\n",
      "Name: y, dtype: int64\n",
      "updated weights after epoch:\n",
      "5/10 : \n",
      "[-1.22410147e-06  3.06425484e-05  6.25177443e-05]\n",
      "##################################################\n",
      "--------------------\n",
      "for epoch: 6\n",
      "--------------------\n",
      "predicted value after forward pass: \n",
      "[0 0 0 0]\n",
      "error: \n",
      "0    0\n",
      "1    1\n",
      "2    1\n",
      "3    0\n",
      "Name: y, dtype: int64\n",
      "updated weights after epoch:\n",
      "6/10 : \n",
      "[ 0.29999878  0.30003064 -0.59993748]\n",
      "##################################################\n",
      "--------------------\n",
      "for epoch: 7\n",
      "--------------------\n",
      "predicted value after forward pass: \n",
      "[1 1 1 1]\n",
      "error: \n",
      "0   -1\n",
      "1    0\n",
      "2    0\n",
      "3   -1\n",
      "Name: y, dtype: int64\n",
      "updated weights after epoch:\n",
      "7/10 : \n",
      "[-1.22410147e-06  3.06425484e-05  6.25177443e-05]\n",
      "##################################################\n",
      "--------------------\n",
      "for epoch: 8\n",
      "--------------------\n",
      "predicted value after forward pass: \n",
      "[0 0 0 0]\n",
      "error: \n",
      "0    0\n",
      "1    1\n",
      "2    1\n",
      "3    0\n",
      "Name: y, dtype: int64\n",
      "updated weights after epoch:\n",
      "8/10 : \n",
      "[ 0.29999878  0.30003064 -0.59993748]\n",
      "##################################################\n",
      "--------------------\n",
      "for epoch: 9\n",
      "--------------------\n",
      "predicted value after forward pass: \n",
      "[1 1 1 1]\n",
      "error: \n",
      "0   -1\n",
      "1    0\n",
      "2    0\n",
      "3   -1\n",
      "Name: y, dtype: int64\n",
      "updated weights after epoch:\n",
      "9/10 : \n",
      "[-1.22410147e-06  3.06425484e-05  6.25177443e-05]\n",
      "##################################################\n",
      "total loss: -2\n"
     ]
    }
   ],
   "source": [
    "X,y = prepare_data(df)\n",
    "\n",
    "ETA = 0.3 # 0 and 1\n",
    "EPOCHS = 10\n",
    "\n",
    "model_XOR = Perceptron(eta=ETA, epochs=EPOCHS)\n",
    "model_XOR.fit(X, y)\n",
    "\n",
    "_ = model_XOR.total_loss()\n"
   ]
  },
  {
   "cell_type": "markdown",
   "id": "0f60d018-a0f4-485b-8883-aff5059b239d",
   "metadata": {},
   "source": [
    "## SAVE PLOT"
   ]
  },
  {
   "cell_type": "code",
   "execution_count": 33,
   "id": "531aedad-2781-4a09-bce3-f4a6aa4dcc59",
   "metadata": {},
   "outputs": [],
   "source": [
    "def save_plot(df, file_name, model):\n",
    "  def _create_base_plot(df):\n",
    "    df.plot(kind=\"scatter\", x=\"x1\", y=\"x2\", c=\"y\", s=100, cmap=\"winter\")\n",
    "    plt.axhline(y=0, color=\"black\", linestyle=\"--\", linewidth=1)\n",
    "    plt.axvline(x=0, color=\"black\", linestyle=\"--\", linewidth=1)\n",
    "    figure = plt.gcf() # get current figure\n",
    "    figure.set_size_inches(10, 8)\n",
    "\n",
    "  def _plot_decision_regions(X, y, classfier, resolution=0.02):\n",
    "    colors = (\"red\", \"blue\", \"lightgreen\", \"gray\", \"cyan\")\n",
    "    cmap = ListedColormap(colors[: len(np.unique(y))])\n",
    "\n",
    "    X = X.values # as a array\n",
    "    x1 = X[:, 0] \n",
    "    x2 = X[:, 1]\n",
    "    x1_min, x1_max = x1.min() -1 , x1.max() + 1\n",
    "    x2_min, x2_max = x2.min() -1 , x2.max() + 1  \n",
    "\n",
    "    xx1, xx2 = np.meshgrid(np.arange(x1_min, x1_max, resolution), \n",
    "                           np.arange(x2_min, x2_max, resolution))\n",
    "    print(xx1)\n",
    "    print(xx1.ravel())\n",
    "    Z = classfier.predict(np.array([xx1.ravel(), xx2.ravel()]).T)\n",
    "    Z = Z.reshape(xx1.shape)\n",
    "    plt.contourf(xx1, xx2, Z, alpha=0.2, cmap=cmap)\n",
    "    plt.xlim(xx1.min(), xx1.max())\n",
    "    plt.ylim(xx2.min(), xx2.max())\n",
    "\n",
    "    plt.plot()\n",
    "\n",
    "\n",
    "\n",
    "  X, y = prepare_data(df)\n",
    "\n",
    "  _create_base_plot(df)\n",
    "  _plot_decision_regions(X, y, model)\n",
    "\n",
    "  plot_dir = \"plots\"\n",
    "  os.makedirs(plot_dir, exist_ok=True) # ONLY CREATE IF MODEL_DIR DOESN\"T EXISTS\n",
    "  plotPath = os.path.join(plot_dir, file_name) # model/filename\n",
    "  plt.savefig(plotPath)"
   ]
  },
  {
   "cell_type": "markdown",
   "id": "c8a1f96c-10d1-46d2-94d2-8856d3e5072e",
   "metadata": {},
   "source": [
    "## AND "
   ]
  },
  {
   "cell_type": "code",
   "execution_count": 34,
   "id": "d39c9775-dfc6-45e9-87b5-e2115c797cdc",
   "metadata": {},
   "outputs": [
    {
     "data": {
      "text/html": [
       "<div>\n",
       "<style scoped>\n",
       "    .dataframe tbody tr th:only-of-type {\n",
       "        vertical-align: middle;\n",
       "    }\n",
       "\n",
       "    .dataframe tbody tr th {\n",
       "        vertical-align: top;\n",
       "    }\n",
       "\n",
       "    .dataframe thead th {\n",
       "        text-align: right;\n",
       "    }\n",
       "</style>\n",
       "<table border=\"1\" class=\"dataframe\">\n",
       "  <thead>\n",
       "    <tr style=\"text-align: right;\">\n",
       "      <th></th>\n",
       "      <th>x1</th>\n",
       "      <th>x2</th>\n",
       "      <th>y</th>\n",
       "    </tr>\n",
       "  </thead>\n",
       "  <tbody>\n",
       "    <tr>\n",
       "      <th>0</th>\n",
       "      <td>0</td>\n",
       "      <td>0</td>\n",
       "      <td>0</td>\n",
       "    </tr>\n",
       "    <tr>\n",
       "      <th>1</th>\n",
       "      <td>0</td>\n",
       "      <td>1</td>\n",
       "      <td>0</td>\n",
       "    </tr>\n",
       "    <tr>\n",
       "      <th>2</th>\n",
       "      <td>1</td>\n",
       "      <td>0</td>\n",
       "      <td>0</td>\n",
       "    </tr>\n",
       "    <tr>\n",
       "      <th>3</th>\n",
       "      <td>1</td>\n",
       "      <td>1</td>\n",
       "      <td>1</td>\n",
       "    </tr>\n",
       "  </tbody>\n",
       "</table>\n",
       "</div>"
      ],
      "text/plain": [
       "   x1  x2  y\n",
       "0   0   0  0\n",
       "1   0   1  0\n",
       "2   1   0  0\n",
       "3   1   1  1"
      ]
     },
     "execution_count": 34,
     "metadata": {},
     "output_type": "execute_result"
    }
   ],
   "source": [
    "AND = {\n",
    "    \"x1\": [0,0,1,1],\n",
    "    \"x2\": [0,1,0,1],\n",
    "    \"y\": [0,0,0,1],\n",
    "}\n",
    "\n",
    "df = pd.DataFrame(AND)\n",
    "\n",
    "df"
   ]
  },
  {
   "cell_type": "code",
   "execution_count": 35,
   "id": "e24c7749-3d94-4071-8f43-095807ca8e9c",
   "metadata": {},
   "outputs": [
    {
     "name": "stdout",
     "output_type": "stream",
     "text": [
      "initial weights before training: \n",
      "[ 2.89442784e-05 -9.61104405e-05  1.10765198e-04]\n",
      "X with bias: \n",
      "[[ 0.  0. -1.]\n",
      " [ 0.  1. -1.]\n",
      " [ 1.  0. -1.]\n",
      " [ 1.  1. -1.]]\n",
      "--------------------\n",
      "for epoch: 0\n",
      "--------------------\n",
      "predicted value after forward pass: \n",
      "[0 0 0 0]\n",
      "error: \n",
      "0    0\n",
      "1    0\n",
      "2    0\n",
      "3    1\n",
      "Name: y, dtype: int64\n",
      "updated weights after epoch:\n",
      "0/10 : \n",
      "[ 0.30002894  0.29990389 -0.29988923]\n",
      "##################################################\n",
      "--------------------\n",
      "for epoch: 1\n",
      "--------------------\n",
      "predicted value after forward pass: \n",
      "[1 1 1 1]\n",
      "error: \n",
      "0   -1\n",
      "1   -1\n",
      "2   -1\n",
      "3    0\n",
      "Name: y, dtype: int64\n",
      "updated weights after epoch:\n",
      "1/10 : \n",
      "[ 2.89442784e-05 -9.61104405e-05  6.00110765e-01]\n",
      "##################################################\n",
      "--------------------\n",
      "for epoch: 2\n",
      "--------------------\n",
      "predicted value after forward pass: \n",
      "[0 0 0 0]\n",
      "error: \n",
      "0    0\n",
      "1    0\n",
      "2    0\n",
      "3    1\n",
      "Name: y, dtype: int64\n",
      "updated weights after epoch:\n",
      "2/10 : \n",
      "[0.30002894 0.29990389 0.30011077]\n",
      "##################################################\n",
      "--------------------\n",
      "for epoch: 3\n",
      "--------------------\n",
      "predicted value after forward pass: \n",
      "[0 0 0 1]\n",
      "error: \n",
      "0    0\n",
      "1    0\n",
      "2    0\n",
      "3    0\n",
      "Name: y, dtype: int64\n",
      "updated weights after epoch:\n",
      "3/10 : \n",
      "[0.30002894 0.29990389 0.30011077]\n",
      "##################################################\n",
      "--------------------\n",
      "for epoch: 4\n",
      "--------------------\n",
      "predicted value after forward pass: \n",
      "[0 0 0 1]\n",
      "error: \n",
      "0    0\n",
      "1    0\n",
      "2    0\n",
      "3    0\n",
      "Name: y, dtype: int64\n",
      "updated weights after epoch:\n",
      "4/10 : \n",
      "[0.30002894 0.29990389 0.30011077]\n",
      "##################################################\n",
      "--------------------\n",
      "for epoch: 5\n",
      "--------------------\n",
      "predicted value after forward pass: \n",
      "[0 0 0 1]\n",
      "error: \n",
      "0    0\n",
      "1    0\n",
      "2    0\n",
      "3    0\n",
      "Name: y, dtype: int64\n",
      "updated weights after epoch:\n",
      "5/10 : \n",
      "[0.30002894 0.29990389 0.30011077]\n",
      "##################################################\n",
      "--------------------\n",
      "for epoch: 6\n",
      "--------------------\n",
      "predicted value after forward pass: \n",
      "[0 0 0 1]\n",
      "error: \n",
      "0    0\n",
      "1    0\n",
      "2    0\n",
      "3    0\n",
      "Name: y, dtype: int64\n",
      "updated weights after epoch:\n",
      "6/10 : \n",
      "[0.30002894 0.29990389 0.30011077]\n",
      "##################################################\n",
      "--------------------\n",
      "for epoch: 7\n",
      "--------------------\n",
      "predicted value after forward pass: \n",
      "[0 0 0 1]\n",
      "error: \n",
      "0    0\n",
      "1    0\n",
      "2    0\n",
      "3    0\n",
      "Name: y, dtype: int64\n",
      "updated weights after epoch:\n",
      "7/10 : \n",
      "[0.30002894 0.29990389 0.30011077]\n",
      "##################################################\n",
      "--------------------\n",
      "for epoch: 8\n",
      "--------------------\n",
      "predicted value after forward pass: \n",
      "[0 0 0 1]\n",
      "error: \n",
      "0    0\n",
      "1    0\n",
      "2    0\n",
      "3    0\n",
      "Name: y, dtype: int64\n",
      "updated weights after epoch:\n",
      "8/10 : \n",
      "[0.30002894 0.29990389 0.30011077]\n",
      "##################################################\n",
      "--------------------\n",
      "for epoch: 9\n",
      "--------------------\n",
      "predicted value after forward pass: \n",
      "[0 0 0 1]\n",
      "error: \n",
      "0    0\n",
      "1    0\n",
      "2    0\n",
      "3    0\n",
      "Name: y, dtype: int64\n",
      "updated weights after epoch:\n",
      "9/10 : \n",
      "[0.30002894 0.29990389 0.30011077]\n",
      "##################################################\n",
      "total loss: 0\n"
     ]
    }
   ],
   "source": [
    "X,y = prepare_data(df)\n",
    "\n",
    "ETA = 0.3 # 0 and 1\n",
    "EPOCHS = 10\n",
    "\n",
    "model_AND = Perceptron(eta=ETA, epochs=EPOCHS)\n",
    "model_AND.fit(X, y)\n",
    "\n",
    "_ = model_AND.total_loss()"
   ]
  },
  {
   "cell_type": "code",
   "execution_count": 36,
   "id": "0206d73d-589d-491b-93ff-2c98531bcecf",
   "metadata": {},
   "outputs": [
    {
     "name": "stdout",
     "output_type": "stream",
     "text": [
      "[[-1.   -0.98 -0.96 ...  1.94  1.96  1.98]\n",
      " [-1.   -0.98 -0.96 ...  1.94  1.96  1.98]\n",
      " [-1.   -0.98 -0.96 ...  1.94  1.96  1.98]\n",
      " ...\n",
      " [-1.   -0.98 -0.96 ...  1.94  1.96  1.98]\n",
      " [-1.   -0.98 -0.96 ...  1.94  1.96  1.98]\n",
      " [-1.   -0.98 -0.96 ...  1.94  1.96  1.98]]\n",
      "[-1.   -0.98 -0.96 ...  1.94  1.96  1.98]\n"
     ]
    },
    {
     "data": {
      "image/png": "[encoded data removed]",
      "text/plain": [
       "<Figure size 1000x800 with 2 Axes>"
      ]
     },
     "metadata": {},
     "output_type": "display_data"
    }
   ],
   "source": [
    "save_plot(df, \"and.png\", model_AND)"
   ]
  },
  {
   "cell_type": "markdown",
   "id": "605cbf78-d45f-437f-b088-e8d515fb909b",
   "metadata": {},
   "source": [
    "## XOR"
   ]
  },
  {
   "cell_type": "code",
   "execution_count": 37,
   "id": "e088eb84-ef87-4582-b6b4-b98d28f5b4f9",
   "metadata": {},
   "outputs": [
    {
     "data": {
      "text/html": [
       "<div>\n",
       "<style scoped>\n",
       "    .dataframe tbody tr th:only-of-type {\n",
       "        vertical-align: middle;\n",
       "    }\n",
       "\n",
       "    .dataframe tbody tr th {\n",
       "        vertical-align: top;\n",
       "    }\n",
       "\n",
       "    .dataframe thead th {\n",
       "        text-align: right;\n",
       "    }\n",
       "</style>\n",
       "<table border=\"1\" class=\"dataframe\">\n",
       "  <thead>\n",
       "    <tr style=\"text-align: right;\">\n",
       "      <th></th>\n",
       "      <th>x1</th>\n",
       "      <th>x2</th>\n",
       "      <th>y</th>\n",
       "    </tr>\n",
       "  </thead>\n",
       "  <tbody>\n",
       "    <tr>\n",
       "      <th>0</th>\n",
       "      <td>0</td>\n",
       "      <td>0</td>\n",
       "      <td>0</td>\n",
       "    </tr>\n",
       "    <tr>\n",
       "      <th>1</th>\n",
       "      <td>0</td>\n",
       "      <td>1</td>\n",
       "      <td>1</td>\n",
       "    </tr>\n",
       "    <tr>\n",
       "      <th>2</th>\n",
       "      <td>1</td>\n",
       "      <td>0</td>\n",
       "      <td>1</td>\n",
       "    </tr>\n",
       "    <tr>\n",
       "      <th>3</th>\n",
       "      <td>1</td>\n",
       "      <td>1</td>\n",
       "      <td>0</td>\n",
       "    </tr>\n",
       "  </tbody>\n",
       "</table>\n",
       "</div>"
      ],
      "text/plain": [
       "   x1  x2  y\n",
       "0   0   0  0\n",
       "1   0   1  1\n",
       "2   1   0  1\n",
       "3   1   1  0"
      ]
     },
     "execution_count": 37,
     "metadata": {},
     "output_type": "execute_result"
    }
   ],
   "source": [
    "XOR = {\n",
    "    \"x1\": [0,0,1,1],\n",
    "    \"x2\": [0,1,0,1],\n",
    "    \"y\": [0,1,1,0],\n",
    "}\n",
    "\n",
    "df = pd.DataFrame(XOR)\n",
    "\n",
    "df"
   ]
  },
  {
   "cell_type": "code",
   "execution_count": 38,
   "id": "8e459edd-acc5-4ec5-bd97-4d15e3318450",
   "metadata": {},
   "outputs": [
    {
     "name": "stdout",
     "output_type": "stream",
     "text": [
      "initial weights before training: \n",
      "[-1.36554569e-04 -1.02609730e-05  4.65756598e-05]\n",
      "X with bias: \n",
      "[[ 0.  0. -1.]\n",
      " [ 0.  1. -1.]\n",
      " [ 1.  0. -1.]\n",
      " [ 1.  1. -1.]]\n",
      "--------------------\n",
      "for epoch: 0\n",
      "--------------------\n",
      "predicted value after forward pass: \n",
      "[0 0 0 0]\n",
      "error: \n",
      "0    0\n",
      "1    1\n",
      "2    1\n",
      "3    0\n",
      "Name: y, dtype: int64\n",
      "updated weights after epoch:\n",
      "0/10 : \n",
      "[ 0.29986345  0.29998974 -0.59995342]\n",
      "##################################################\n",
      "--------------------\n",
      "for epoch: 1\n",
      "--------------------\n",
      "predicted value after forward pass: \n",
      "[1 1 1 1]\n",
      "error: \n",
      "0   -1\n",
      "1    0\n",
      "2    0\n",
      "3   -1\n",
      "Name: y, dtype: int64\n",
      "updated weights after epoch:\n",
      "1/10 : \n",
      "[-1.36554569e-04 -1.02609730e-05  4.65756598e-05]\n",
      "##################################################\n",
      "--------------------\n",
      "for epoch: 2\n",
      "--------------------\n",
      "predicted value after forward pass: \n",
      "[0 0 0 0]\n",
      "error: \n",
      "0    0\n",
      "1    1\n",
      "2    1\n",
      "3    0\n",
      "Name: y, dtype: int64\n",
      "updated weights after epoch:\n",
      "2/10 : \n",
      "[ 0.29986345  0.29998974 -0.59995342]\n",
      "##################################################\n",
      "--------------------\n",
      "for epoch: 3\n",
      "--------------------\n",
      "predicted value after forward pass: \n",
      "[1 1 1 1]\n",
      "error: \n",
      "0   -1\n",
      "1    0\n",
      "2    0\n",
      "3   -1\n",
      "Name: y, dtype: int64\n",
      "updated weights after epoch:\n",
      "3/10 : \n",
      "[-1.36554569e-04 -1.02609730e-05  4.65756598e-05]\n",
      "##################################################\n",
      "--------------------\n",
      "for epoch: 4\n",
      "--------------------\n",
      "predicted value after forward pass: \n",
      "[0 0 0 0]\n",
      "error: \n",
      "0    0\n",
      "1    1\n",
      "2    1\n",
      "3    0\n",
      "Name: y, dtype: int64\n",
      "updated weights after epoch:\n",
      "4/10 : \n",
      "[ 0.29986345  0.29998974 -0.59995342]\n",
      "##################################################\n",
      "--------------------\n",
      "for epoch: 5\n",
      "--------------------\n",
      "predicted value after forward pass: \n",
      "[1 1 1 1]\n",
      "error: \n",
      "0   -1\n",
      "1    0\n",
      "2    0\n",
      "3   -1\n",
      "Name: y, dtype: int64\n",
      "updated weights after epoch:\n",
      "5/10 : \n",
      "[-1.36554569e-04 -1.02609730e-05  4.65756598e-05]\n",
      "##################################################\n",
      "--------------------\n",
      "for epoch: 6\n",
      "--------------------\n",
      "predicted value after forward pass: \n",
      "[0 0 0 0]\n",
      "error: \n",
      "0    0\n",
      "1    1\n",
      "2    1\n",
      "3    0\n",
      "Name: y, dtype: int64\n",
      "updated weights after epoch:\n",
      "6/10 : \n",
      "[ 0.29986345  0.29998974 -0.59995342]\n",
      "##################################################\n",
      "--------------------\n",
      "for epoch: 7\n",
      "--------------------\n",
      "predicted value after forward pass: \n",
      "[1 1 1 1]\n",
      "error: \n",
      "0   -1\n",
      "1    0\n",
      "2    0\n",
      "3   -1\n",
      "Name: y, dtype: int64\n",
      "updated weights after epoch:\n",
      "7/10 : \n",
      "[-1.36554569e-04 -1.02609730e-05  4.65756598e-05]\n",
      "##################################################\n",
      "--------------------\n",
      "for epoch: 8\n",
      "--------------------\n",
      "predicted value after forward pass: \n",
      "[0 0 0 0]\n",
      "error: \n",
      "0    0\n",
      "1    1\n",
      "2    1\n",
      "3    0\n",
      "Name: y, dtype: int64\n",
      "updated weights after epoch:\n",
      "8/10 : \n",
      "[ 0.29986345  0.29998974 -0.59995342]\n",
      "##################################################\n",
      "--------------------\n",
      "for epoch: 9\n",
      "--------------------\n",
      "predicted value after forward pass: \n",
      "[1 1 1 1]\n",
      "error: \n",
      "0   -1\n",
      "1    0\n",
      "2    0\n",
      "3   -1\n",
      "Name: y, dtype: int64\n",
      "updated weights after epoch:\n",
      "9/10 : \n",
      "[-1.36554569e-04 -1.02609730e-05  4.65756598e-05]\n",
      "##################################################\n",
      "total loss: -2\n"
     ]
    }
   ],
   "source": [
    "X,y = prepare_data(df)\n",
    "\n",
    "ETA = 0.3 # 0 and 1\n",
    "EPOCHS = 10\n",
    "\n",
    "model_XOR = Perceptron(eta=ETA, epochs=EPOCHS)\n",
    "model_XOR.fit(X, y)\n",
    "\n",
    "_ = model_XOR.total_loss()"
   ]
  },
  {
   "cell_type": "code",
   "execution_count": 39,
   "id": "8689c58b-b4e7-49cc-abe7-4572e1c58204",
   "metadata": {},
   "outputs": [
    {
     "name": "stdout",
     "output_type": "stream",
     "text": [
      "[[-1.   -0.98 -0.96 ...  1.94  1.96  1.98]\n",
      " [-1.   -0.98 -0.96 ...  1.94  1.96  1.98]\n",
      " [-1.   -0.98 -0.96 ...  1.94  1.96  1.98]\n",
      " ...\n",
      " [-1.   -0.98 -0.96 ...  1.94  1.96  1.98]\n",
      " [-1.   -0.98 -0.96 ...  1.94  1.96  1.98]\n",
      " [-1.   -0.98 -0.96 ...  1.94  1.96  1.98]]\n",
      "[-1.   -0.98 -0.96 ...  1.94  1.96  1.98]\n"
     ]
    },
    {
     "data": {
      "image/png": "[encoded data removed]",
      "text/plain": [
       "<Figure size 1000x800 with 2 Axes>"
      ]
     },
     "metadata": {},
     "output_type": "display_data"
    }
   ],
   "source": [
    "save_plot(df, \"xor.png\", model_XOR)"
   ]
  },
  {
   "cell_type": "markdown",
   "id": "1fa8fc4d-e5b9-47ac-9fc8-7200c6be8c17",
   "metadata": {},
   "source": [
    "## NAND"
   ]
  },
  {
   "cell_type": "code",
   "execution_count": 40,
   "id": "2f481457-ba6b-4b7b-9835-a7c8c20436a7",
   "metadata": {},
   "outputs": [
    {
     "data": {
      "text/html": [
       "<div>\n",
       "<style scoped>\n",
       "    .dataframe tbody tr th:only-of-type {\n",
       "        vertical-align: middle;\n",
       "    }\n",
       "\n",
       "    .dataframe tbody tr th {\n",
       "        vertical-align: top;\n",
       "    }\n",
       "\n",
       "    .dataframe thead th {\n",
       "        text-align: right;\n",
       "    }\n",
       "</style>\n",
       "<table border=\"1\" class=\"dataframe\">\n",
       "  <thead>\n",
       "    <tr style=\"text-align: right;\">\n",
       "      <th></th>\n",
       "      <th>x1</th>\n",
       "      <th>x2</th>\n",
       "      <th>y</th>\n",
       "    </tr>\n",
       "  </thead>\n",
       "  <tbody>\n",
       "    <tr>\n",
       "      <th>0</th>\n",
       "      <td>0</td>\n",
       "      <td>0</td>\n",
       "      <td>1</td>\n",
       "    </tr>\n",
       "    <tr>\n",
       "      <th>1</th>\n",
       "      <td>0</td>\n",
       "      <td>1</td>\n",
       "      <td>1</td>\n",
       "    </tr>\n",
       "    <tr>\n",
       "      <th>2</th>\n",
       "      <td>1</td>\n",
       "      <td>0</td>\n",
       "      <td>1</td>\n",
       "    </tr>\n",
       "    <tr>\n",
       "      <th>3</th>\n",
       "      <td>1</td>\n",
       "      <td>1</td>\n",
       "      <td>0</td>\n",
       "    </tr>\n",
       "  </tbody>\n",
       "</table>\n",
       "</div>"
      ],
      "text/plain": [
       "   x1  x2  y\n",
       "0   0   0  1\n",
       "1   0   1  1\n",
       "2   1   0  1\n",
       "3   1   1  0"
      ]
     },
     "execution_count": 40,
     "metadata": {},
     "output_type": "execute_result"
    }
   ],
   "source": [
    "NAND = {\n",
    "    \"x1\": [0,0,1,1],\n",
    "    \"x2\": [0,1,0,1],\n",
    "    \"y\": [1,1,1,0],\n",
    "}\n",
    "\n",
    "df = pd.DataFrame(NAND)\n",
    "\n",
    "df"
   ]
  },
  {
   "cell_type": "code",
   "execution_count": 41,
   "id": "73761af9-b29b-4693-a575-de0ddeaad06f",
   "metadata": {},
   "outputs": [
    {
     "name": "stdout",
     "output_type": "stream",
     "text": [
      "initial weights before training: \n",
      "[ 7.55001039e-05 -1.89654412e-04  2.52265628e-05]\n",
      "X with bias: \n",
      "[[ 0.  0. -1.]\n",
      " [ 0.  1. -1.]\n",
      " [ 1.  0. -1.]\n",
      " [ 1.  1. -1.]]\n",
      "--------------------\n",
      "for epoch: 0\n",
      "--------------------\n",
      "predicted value after forward pass: \n",
      "[0 0 1 0]\n",
      "error: \n",
      "0    1\n",
      "1    1\n",
      "2    0\n",
      "3    0\n",
      "Name: y, dtype: int64\n",
      "updated weights after epoch:\n",
      "0/10 : \n",
      "[ 7.55001039e-05  2.99810346e-01 -5.99974773e-01]\n",
      "##################################################\n",
      "--------------------\n",
      "for epoch: 1\n",
      "--------------------\n",
      "predicted value after forward pass: \n",
      "[1 1 1 1]\n",
      "error: \n",
      "0    0\n",
      "1    0\n",
      "2    0\n",
      "3   -1\n",
      "Name: y, dtype: int64\n",
      "updated weights after epoch:\n",
      "1/10 : \n",
      "[-2.99924500e-01 -1.89654412e-04 -2.99974773e-01]\n",
      "##################################################\n",
      "--------------------\n",
      "for epoch: 2\n",
      "--------------------\n",
      "predicted value after forward pass: \n",
      "[1 1 1 0]\n",
      "error: \n",
      "0    0\n",
      "1    0\n",
      "2    0\n",
      "3    0\n",
      "Name: y, dtype: int64\n",
      "updated weights after epoch:\n",
      "2/10 : \n",
      "[-2.99924500e-01 -1.89654412e-04 -2.99974773e-01]\n",
      "##################################################\n",
      "--------------------\n",
      "for epoch: 3\n",
      "--------------------\n",
      "predicted value after forward pass: \n",
      "[1 1 1 0]\n",
      "error: \n",
      "0    0\n",
      "1    0\n",
      "2    0\n",
      "3    0\n",
      "Name: y, dtype: int64\n",
      "updated weights after epoch:\n",
      "3/10 : \n",
      "[-2.99924500e-01 -1.89654412e-04 -2.99974773e-01]\n",
      "##################################################\n",
      "--------------------\n",
      "for epoch: 4\n",
      "--------------------\n",
      "predicted value after forward pass: \n",
      "[1 1 1 0]\n",
      "error: \n",
      "0    0\n",
      "1    0\n",
      "2    0\n",
      "3    0\n",
      "Name: y, dtype: int64\n",
      "updated weights after epoch:\n",
      "4/10 : \n",
      "[-2.99924500e-01 -1.89654412e-04 -2.99974773e-01]\n",
      "##################################################\n",
      "--------------------\n",
      "for epoch: 5\n",
      "--------------------\n",
      "predicted value after forward pass: \n",
      "[1 1 1 0]\n",
      "error: \n",
      "0    0\n",
      "1    0\n",
      "2    0\n",
      "3    0\n",
      "Name: y, dtype: int64\n",
      "updated weights after epoch:\n",
      "5/10 : \n",
      "[-2.99924500e-01 -1.89654412e-04 -2.99974773e-01]\n",
      "##################################################\n",
      "--------------------\n",
      "for epoch: 6\n",
      "--------------------\n",
      "predicted value after forward pass: \n",
      "[1 1 1 0]\n",
      "error: \n",
      "0    0\n",
      "1    0\n",
      "2    0\n",
      "3    0\n",
      "Name: y, dtype: int64\n",
      "updated weights after epoch:\n",
      "6/10 : \n",
      "[-2.99924500e-01 -1.89654412e-04 -2.99974773e-01]\n",
      "##################################################\n",
      "--------------------\n",
      "for epoch: 7\n",
      "--------------------\n",
      "predicted value after forward pass: \n",
      "[1 1 1 0]\n",
      "error: \n",
      "0    0\n",
      "1    0\n",
      "2    0\n",
      "3    0\n",
      "Name: y, dtype: int64\n",
      "updated weights after epoch:\n",
      "7/10 : \n",
      "[-2.99924500e-01 -1.89654412e-04 -2.99974773e-01]\n",
      "##################################################\n",
      "--------------------\n",
      "for epoch: 8\n",
      "--------------------\n",
      "predicted value after forward pass: \n",
      "[1 1 1 0]\n",
      "error: \n",
      "0    0\n",
      "1    0\n",
      "2    0\n",
      "3    0\n",
      "Name: y, dtype: int64\n",
      "updated weights after epoch:\n",
      "8/10 : \n",
      "[-2.99924500e-01 -1.89654412e-04 -2.99974773e-01]\n",
      "##################################################\n",
      "--------------------\n",
      "for epoch: 9\n",
      "--------------------\n",
      "predicted value after forward pass: \n",
      "[1 1 1 0]\n",
      "error: \n",
      "0    0\n",
      "1    0\n",
      "2    0\n",
      "3    0\n",
      "Name: y, dtype: int64\n",
      "updated weights after epoch:\n",
      "9/10 : \n",
      "[-2.99924500e-01 -1.89654412e-04 -2.99974773e-01]\n",
      "##################################################\n",
      "total loss: 0\n"
     ]
    }
   ],
   "source": [
    "X,y = prepare_data(df)\n",
    "\n",
    "ETA = 0.3 # 0 and 1\n",
    "EPOCHS = 10\n",
    "\n",
    "model_NAND = Perceptron(eta=ETA, epochs=EPOCHS)\n",
    "model_NAND.fit(X, y)\n",
    "\n",
    "_ = model_NAND.total_loss()"
   ]
  },
  {
   "cell_type": "code",
   "execution_count": 42,
   "id": "a7f9cc9b-d82a-4fc2-97ce-35b53bb9671e",
   "metadata": {},
   "outputs": [
    {
     "name": "stdout",
     "output_type": "stream",
     "text": [
      "[[-1.   -0.98 -0.96 ...  1.94  1.96  1.98]\n",
      " [-1.   -0.98 -0.96 ...  1.94  1.96  1.98]\n",
      " [-1.   -0.98 -0.96 ...  1.94  1.96  1.98]\n",
      " ...\n",
      " [-1.   -0.98 -0.96 ...  1.94  1.96  1.98]\n",
      " [-1.   -0.98 -0.96 ...  1.94  1.96  1.98]\n",
      " [-1.   -0.98 -0.96 ...  1.94  1.96  1.98]]\n",
      "[-1.   -0.98 -0.96 ...  1.94  1.96  1.98]\n"
     ]
    },
    {
     "data": {
      "image/png": "[encoded data removed]",
      "text/plain": [
       "<Figure size 1000x800 with 2 Axes>"
      ]
     },
     "metadata": {},
     "output_type": "display_data"
    }
   ],
   "source": [
    "save_plot(df, \"Nand.png\", model_NAND)"
   ]
  },
  {
   "cell_type": "code",
   "execution_count": null,
   "id": "5d6b1eab-3428-46b5-9930-d7011de0c344",
   "metadata": {},
   "outputs": [],
   "source": []
  },
  {
   "cell_type": "code",
   "execution_count": null,
   "id": "fd5931ea",
   "metadata": {},
   "outputs": [],
   "source": []
  },
  {
   "cell_type": "code",
   "execution_count": null,
   "id": "f0c4d91a",
   "metadata": {},
   "outputs": [],
   "source": []
  },
  {
   "cell_type": "code",
   "execution_count": null,
   "id": "87e9b605",
   "metadata": {},
   "outputs": [],
   "source": []
  },
  {
   "cell_type": "code",
   "execution_count": null,
   "id": "583478ce",
   "metadata": {},
   "outputs": [],
   "source": []
  }
 ],
 "metadata": {
  "kernelspec": {
   "display_name": "Python 3 (ipykernel)",
   "language": "python",
   "name": "python3"
  },
  "language_info": {
   "codemirror_mode": {
    "name": "ipython",
    "version": 3
   },
   "file_extension": ".py",
   "mimetype": "text/x-python",
   "name": "python",
   "nbconvert_exporter": "python",
   "pygments_lexer": "ipython3",
   "version": "3.7.16"
  }
 },
 "nbformat": 4,
 "nbformat_minor": 5
}
